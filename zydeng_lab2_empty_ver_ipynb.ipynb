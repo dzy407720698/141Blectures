{
  "nbformat": 4,
  "nbformat_minor": 0,
  "metadata": {
    "colab": {
      "name": "“ lab2_empty_ver.ipynb”的副本",
      "provenance": [],
      "collapsed_sections": [
        "84FJ3UeaBy-D"
      ],
      "include_colab_link": true
    },
    "kernelspec": {
      "name": "python3",
      "display_name": "Python 3"
    }
  },
  "cells": [
    {
      "cell_type": "markdown",
      "metadata": {
        "id": "view-in-github",
        "colab_type": "text"
      },
      "source": [
        "<a href=\"https://colab.research.google.com/github/dzy407720698/141Blectures/blob/master/zydeng_lab2_empty_ver_ipynb.ipynb\" target=\"_parent\"><img src=\"https://colab.research.google.com/assets/colab-badge.svg\" alt=\"Open In Colab\"/></a>"
      ]
    },
    {
      "cell_type": "markdown",
      "metadata": {
        "id": "-ZwSP80LwX06",
        "colab_type": "text"
      },
      "source": [
        "# SI649-20-Winter Lab 2 -> Altair I\n",
        "## Overview \n",
        "We're going to re-create some of the visualizations we did in Tableau but this time using Altair for the article: [“The Dollar-And-Cents Case Against Hollywood’s Exclusion of Women”](https://fivethirtyeight.com/features/the-dollar-and-cents-case-against-hollywoods-exclusion-of-women/). We'll be teaching you different pieces of Altair over the next few weeks so we'll focus on just a few visualizations this time:\n",
        "\n",
        "1.   Replicate 2 visualizations in the original article  \n",
        "2.   Implementing 2 new visualizations according to our specifications\n",
        "\n",
        "**For this lab, we have done all of the necessary data transformation for you. You do not need to modify any dataframe. You only need to write Altair code. It's fine if your visualization looks slightly different from the example (e.g., getting 1.1 instead of 1.0)**\n",
        "\n",
        "### Lab Instructions (read the full version on the handout of the previous lab)\n",
        "\n",
        "*   Save, rename, and submit the ipynb file (use your username in the name).\n",
        "*   Run every cell (do Runtime -> Restart and run all to make sure you have a clean working version), print to pdf, submit the pdf file. \n",
        "*   For each visualization, we will ask you to write down a \"Grammar of Graphics\" plan first (basically a description of what you'll code).\n",
        "*   If you end up stuck, show us your work by including links (URLs) that you have searched for. You'll get partial credit for showing your work in progress. \n",
        "*   There are many bonus point opportunities in this lab. \n",
        "\n",
        "We encourage you to go through the Altair tutorials before next week:\n",
        "- [UW Course](https://github.com/uwdata/visualization-curriculum)\n",
        "- [Altair tutorial](https://github.com/altair-viz/altair-tutorial)\n",
        "\n",
        "### Resources\n",
        "- [Altair Documentation](https://altair-viz.github.io/index.html)\n",
        "- [Colab Overview](https://colab.research.google.com/notebooks/basic_features_overview.ipynb)\n",
        "- [Markdown Cheatsheet](https://www.markdownguide.org/cheat-sheet/)\n",
        "- [Pandas DataFrame Introduction](https://pandas.pydata.org/pandas-docs/stable/getting_started/10min.html)\n",
        "- [Vega-Lite documentation](https://vega.github.io/vega-lite/docs/)\n",
        "- [Vega/Vega-Lite editor](https://vega.github.io/vega-editor/)\n"
      ]
    },
    {
      "cell_type": "code",
      "metadata": {
        "id": "ivyqtid71Una",
        "colab_type": "code",
        "colab": {}
      },
      "source": [
        "# imports we will use\n",
        "import altair as alt\n",
        "import pandas as pd\n",
        "from collections import defaultdict"
      ],
      "execution_count": 0,
      "outputs": []
    },
    {
      "cell_type": "code",
      "metadata": {
        "id": "MNM3Mfi_1f3P",
        "colab_type": "code",
        "colab": {}
      },
      "source": [
        "# load data and perform basic data processing \n",
        "# get the CSV\n",
        "datasetURL=\"https://raw.githubusercontent.com/LiciaHe/SI649/master/week2/movies_individual_task.csv\" \n",
        "movieDF=pd.read_csv(datasetURL, encoding=\"latin-1\")\n",
        "\n",
        "# fix the result column, rename the values\n",
        "movieDF['test_result'] = movieDF['clean_test'].map({\n",
        "    \"ok\":\"Passes Bechdel Test\",\n",
        "    \"men\":'Women only talk about men',\n",
        "    \"notalk\":\"Women don't talk to each other\",\n",
        "    \"nowomen\":\"Fewer than two women\",\n",
        "    \"dubious\":\"dubious\"\n",
        "})\n",
        "\n",
        "# fix the location column for later use\n",
        "locationDict = defaultdict(lambda: 'International')\n",
        "locationDict[\"United States\"]=\"U.S. and Canada\"\n",
        "locationDict[\"Canada\"]=\"U.S. and Canada\"\n",
        "movieDF[\"country_binary\"]=movieDF[\"country\"].map(locationDict)\n",
        "\n",
        "##calculate ROI for 2nd chart \n",
        "movieDF[\"roi_dom\"]=movieDF[\"domgross_2013$\"]/movieDF[\"budget_2013$\"]\n",
        "movieDF[\"int_only_gross\"]=movieDF[\"intgross_2013$\"]-movieDF[\"domgross_2013$\"]\n",
        "movieDF[\"roi_int\"]=movieDF[\"int_only_gross\"]/movieDF[\"budget_2013$\"]\n",
        "\n",
        "movieDF=movieDF.drop(columns=[\"Unnamed: 0\",\"test\",\"budget\",\"domgross\",\"intgross\",\"code\",\"period code\",\"decade code\",\"director\",\"genre\",\"director_gender\",\"imdb\"])\n",
        "movieDF_since_1990=movieDF[movieDF.year>1989]"
      ],
      "execution_count": 0,
      "outputs": []
    },
    {
      "cell_type": "code",
      "metadata": {
        "id": "7As6KmES17TD",
        "colab_type": "code",
        "outputId": "ac14b91f-0daa-498b-83d4-334ed6e89485",
        "colab": {
          "base_uri": "https://localhost:8080/",
          "height": 230
        }
      },
      "source": [
        "#take a look at the new dataset\n",
        "movieDF.sample(3)\n",
        "# movieDF_since_1990.sample(3)"
      ],
      "execution_count": 0,
      "outputs": [
        {
          "output_type": "execute_result",
          "data": {
            "text/html": [
              "<div>\n",
              "<style scoped>\n",
              "    .dataframe tbody tr th:only-of-type {\n",
              "        vertical-align: middle;\n",
              "    }\n",
              "\n",
              "    .dataframe tbody tr th {\n",
              "        vertical-align: top;\n",
              "    }\n",
              "\n",
              "    .dataframe thead th {\n",
              "        text-align: right;\n",
              "    }\n",
              "</style>\n",
              "<table border=\"1\" class=\"dataframe\">\n",
              "  <thead>\n",
              "    <tr style=\"text-align: right;\">\n",
              "      <th></th>\n",
              "      <th>year</th>\n",
              "      <th>title</th>\n",
              "      <th>clean_test</th>\n",
              "      <th>binary</th>\n",
              "      <th>budget_2013$</th>\n",
              "      <th>domgross_2013$</th>\n",
              "      <th>intgross_2013$</th>\n",
              "      <th>rating</th>\n",
              "      <th>country</th>\n",
              "      <th>language</th>\n",
              "      <th>test_result</th>\n",
              "      <th>country_binary</th>\n",
              "      <th>roi_dom</th>\n",
              "      <th>int_only_gross</th>\n",
              "      <th>roi_int</th>\n",
              "    </tr>\n",
              "  </thead>\n",
              "  <tbody>\n",
              "    <tr>\n",
              "      <th>614</th>\n",
              "      <td>2008</td>\n",
              "      <td>Possession</td>\n",
              "      <td>ok</td>\n",
              "      <td>PASS</td>\n",
              "      <td>27056408</td>\n",
              "      <td>10934736.0</td>\n",
              "      <td>1.602368e+07</td>\n",
              "      <td>5.6</td>\n",
              "      <td>United States</td>\n",
              "      <td>English</td>\n",
              "      <td>Passes Bechdel Test</td>\n",
              "      <td>U.S. and Canada</td>\n",
              "      <td>0.404146</td>\n",
              "      <td>5088947.0</td>\n",
              "      <td>0.188087</td>\n",
              "    </tr>\n",
              "    <tr>\n",
              "      <th>1543</th>\n",
              "      <td>1994</td>\n",
              "      <td>The Lion King</td>\n",
              "      <td>notalk</td>\n",
              "      <td>FAIL</td>\n",
              "      <td>124633011</td>\n",
              "      <td>664468621.0</td>\n",
              "      <td>1.497608e+09</td>\n",
              "      <td>8.5</td>\n",
              "      <td>United States</td>\n",
              "      <td>English</td>\n",
              "      <td>Women don't talk to each other</td>\n",
              "      <td>U.S. and Canada</td>\n",
              "      <td>5.331401</td>\n",
              "      <td>833139457.0</td>\n",
              "      <td>6.684741</td>\n",
              "    </tr>\n",
              "    <tr>\n",
              "      <th>992</th>\n",
              "      <td>2004</td>\n",
              "      <td>The Incredibles</td>\n",
              "      <td>ok</td>\n",
              "      <td>PASS</td>\n",
              "      <td>113453745</td>\n",
              "      <td>322407292.0</td>\n",
              "      <td>7.795105e+08</td>\n",
              "      <td>8.0</td>\n",
              "      <td>United States</td>\n",
              "      <td>English</td>\n",
              "      <td>Passes Bechdel Test</td>\n",
              "      <td>U.S. and Canada</td>\n",
              "      <td>2.841751</td>\n",
              "      <td>457103230.0</td>\n",
              "      <td>4.028983</td>\n",
              "    </tr>\n",
              "  </tbody>\n",
              "</table>\n",
              "</div>"
            ],
            "text/plain": [
              "      year            title clean_test  ...   roi_dom  int_only_gross   roi_int\n",
              "614   2008       Possession         ok  ...  0.404146       5088947.0  0.188087\n",
              "1543  1994    The Lion King     notalk  ...  5.331401     833139457.0  6.684741\n",
              "992   2004  The Incredibles         ok  ...  2.841751     457103230.0  4.028983\n",
              "\n",
              "[3 rows x 15 columns]"
            ]
          },
          "metadata": {
            "tags": []
          },
          "execution_count": 3
        }
      ]
    },
    {
      "cell_type": "markdown",
      "metadata": {
        "id": "GcqX43qD11-E",
        "colab_type": "text"
      },
      "source": [
        "## Visualization 1: Recreate this visualization \n"
      ]
    },
    {
      "cell_type": "markdown",
      "metadata": {
        "id": "hi-krFHha_fs",
        "colab_type": "text"
      },
      "source": [
        "![vis2](https://fivethirtyeight.com/wp-content/uploads/2014/04/hickey-bechdel-2.png?w=1150)"
      ]
    },
    {
      "cell_type": "markdown",
      "metadata": {
        "id": "qyz3gsDh18M9",
        "colab_type": "text"
      },
      "source": [
        "### Step 1: Write down your plan for the visualization (edit this cell)\n",
        "\n",
        "*   Data Name: *movieDF_since_1990*\n",
        "*   mark type: *TODO:write your answer here (e.g., point or area)*\n",
        "*   Encoding Specification:  \n",
        "*   > x:*TODO:write your answer here (x? y? N? Q? O?)*\n",
        "*   > y: *TODO:write your answer here (x? y? N? Q? O?)*\n",
        "\n",
        "Example encoding, if we had the nominal variable 'movietype' and we wanted to use color, it would be:\n",
        "\n",
        "color: movietype:nominal\n"
      ]
    },
    {
      "cell_type": "markdown",
      "metadata": {
        "id": "lidNtu_iPzHi",
        "colab_type": "text"
      },
      "source": [
        "### Step 2: Create your chart. \n",
        "Please take a look at the checkpoints below. You can follow the checkpoint to work through the problem step-by-step. Don't forget to paste your FINAL answer to the cell immediately blow this block (it will allow us to grade). You can search for the keyword \"TODO\" to locate cells that need your edits\n"
      ]
    },
    {
      "cell_type": "code",
      "metadata": {
        "id": "k8J7TsrxQQFG",
        "colab_type": "code",
        "colab": {}
      },
      "source": [
        "#TODO: Replicate visualization 1 "
      ],
      "execution_count": 0,
      "outputs": []
    },
    {
      "cell_type": "markdown",
      "metadata": {
        "id": "QEk6uTiFQnqq",
        "colab_type": "text"
      },
      "source": [
        "#### checkpoint 1: basic bar chart: you get full points if you \n",
        " \n",
        "*  Specify the correct mark \n",
        "*  Use the correct x and y encoding \n",
        "*  Plotting the right data (hint: make sure you examine the data frame and use the correct columns)\n",
        "\n",
        "\n",
        "You chart should look like:\n",
        "\n",
        "![](https://github.com/LiciaHe/SI649/blob/master/week2/imgs/v1/vis1_1.png?raw=true)"
      ]
    },
    {
      "cell_type": "markdown",
      "metadata": {
        "id": "lwHrCTFSUeae",
        "colab_type": "text"
      },
      "source": [
        "#### checkpoint 2: basic bar chart with sorted order: you get full points if you \n",
        " \n",
        "*  Completed checkpoint1 \n",
        "*  Align the order of your y-axis values with the provided example.\n",
        "*   >*i.e., from top to bottom, the order of the bars is \"Passes Bechdel Test\",\"Women only talk about men\",\"Women don't talk to each other\",\"Fewer than two women\",\"dubious\".*\n",
        "\n",
        "Hint: [Sort](https://altair-viz.github.io/user_guide/generated/core/altair.Sort.html?highlight=sort)\n",
        "\n",
        "\n",
        "You chart should look like:\n",
        "\n",
        "![](https://github.com/LiciaHe/SI649/blob/master/week2/imgs/v1/vis1_2.png?raw=true)"
      ]
    },
    {
      "cell_type": "markdown",
      "metadata": {
        "id": "TvbwauzVVptX",
        "colab_type": "text"
      },
      "source": [
        "#### checkpoint 3: basic bar chart with title: you get full points if you \n",
        " \n",
        "*  Completed checkpoint2 \n",
        "*  Remove labels on x-axis and y-axis\n",
        "*  Add a chart title \n",
        "\n",
        "You chart should look like:\n",
        "\n",
        "![](https://github.com/LiciaHe/SI649/blob/master/week2/imgs/v1/vis1_3.png?raw=true)"
      ]
    },
    {
      "cell_type": "markdown",
      "metadata": {
        "id": "yygCHPRmWBxR",
        "colab_type": "text"
      },
      "source": [
        "#### checkpoint 4: BONUS: remove dubious. You will get full point if you \n",
        " \n",
        "* Complete checkpoint 3\n",
        "* Remove the bar for \"dubious\" (using Altair, no Pandas)\n",
        "\n",
        "You chart will look like:\n",
        "\n",
        "![](https://github.com/LiciaHe/SI649/blob/master/week2/imgs/v1/vis1_4.png?raw=true)"
      ]
    },
    {
      "cell_type": "markdown",
      "metadata": {
        "id": "84FJ3UeaBy-D",
        "colab_type": "text"
      },
      "source": [
        "#### checkpoint 5: BONUS: add number labels.\n",
        "\n",
        "You will get full point if you \n",
        " \n",
        "* Complete checkpoint 4\n",
        "* Add number as labels of your bars \n",
        "\n",
        "You chart will look like:\n",
        "\n",
        "![](https://github.com/LiciaHe/SI649/blob/master/week2/imgs/v1/vis1_5.png?raw=true)"
      ]
    },
    {
      "cell_type": "markdown",
      "metadata": {
        "id": "Yd7uIAxQCZEQ",
        "colab_type": "text"
      },
      "source": [
        "#### checkpoint 6: BONUS: format numbers.\n",
        "\n",
        "You will get full points if you \n",
        " \n",
        "* Complete checkpoint 5\n",
        "* Adjust number labels to display millions. e.g. (31.4592 M instead instead of 31459218). You might want to read about [format](https://altair-viz.github.io/user_guide/encoding.html?highlight=format%20type), and [D3's format specification](https://github.com/d3/d3-format#locale_format). \n",
        "\n",
        "You chart will look like:\n",
        "\n",
        "![](https://github.com/LiciaHe/SI649/blob/master/week2/imgs/v1/vis1_6.png?raw=true)"
      ]
    },
    {
      "cell_type": "markdown",
      "metadata": {
        "id": "h1bjzDg32IZ-",
        "colab_type": "text"
      },
      "source": [
        "## Visualization 2 Replicate this visualization\n"
      ]
    },
    {
      "cell_type": "markdown",
      "metadata": {
        "id": "wxrEWeZtbCv5",
        "colab_type": "text"
      },
      "source": [
        "![alt text](https://fivethirtyeight.com/wp-content/uploads/2014/04/hickey-bechdel-3.png?w=1150)\n",
        "\n",
        "\n",
        "\n"
      ]
    },
    {
      "cell_type": "markdown",
      "metadata": {
        "id": "_npE3BQ6OL7N",
        "colab_type": "text"
      },
      "source": [
        "### Step 1: Write down your plan for the visualization (edit this cell)\n",
        "\n",
        "Left chart:\n",
        "*   Data Name: *movieDF*\n",
        "*   mark type: *TODO:write your answer here*\n",
        "*   Encoding Specification:  \n",
        "*   > x:*TODO:write your answer here (x? y? N? Q? O?)*\n",
        "*   > y: *TODO:write your answer here (x? y? N? Q? O?)*\n",
        "\n",
        "\n",
        "Right chart:\n",
        "*   Data Name: *movieDF*\n",
        "*   mark type: *TODO:write your answer here*\n",
        "*   Encoding Specification:  \n",
        "*   > x:*TODO:write your answer here (x? y? N? Q? O?)*\n",
        "*   > y: *TODO:write your answer here (x? y? N? Q? O?)*\n",
        "\n",
        "Compound Method (how to join these charts together?): *TODO:write your answer here*\n",
        "\n",
        "Example encoding, if we had the nominal variable 'movietype' and we wanted to use color, it would be:\n",
        "\n",
        "color: movietype:nominal\n",
        "\n",
        "\n",
        "\n",
        "\n",
        "\n",
        "\n",
        "\n"
      ]
    },
    {
      "cell_type": "markdown",
      "metadata": {
        "id": "Jsp_GJ38bygT",
        "colab_type": "text"
      },
      "source": [
        "### Step 2: Create your chart. \n",
        "Please take a look at the checkpoints below. You can follow the checkpoint to work through the problem step-by-step. Don't forget to paste your FINAL answer to the cell immediately blow this block (it will allow us to grade). You can search for the keyword \"TODO\" to locate cells that need your edits\n"
      ]
    },
    {
      "cell_type": "code",
      "metadata": {
        "id": "FyyyGf14j4Ct",
        "colab_type": "code",
        "colab": {}
      },
      "source": [
        "#TODO: Replicate chart 2"
      ],
      "execution_count": 0,
      "outputs": []
    },
    {
      "cell_type": "markdown",
      "metadata": {
        "id": "zYDIQ9W1VJgF",
        "colab_type": "text"
      },
      "source": [
        "### Visualization 2 Checkpoints\n"
      ]
    },
    {
      "cell_type": "markdown",
      "metadata": {
        "id": "vc_NFL0vcDC9",
        "colab_type": "text"
      },
      "source": [
        "#### checkpoint 1: basic bar charts\n",
        " \n",
        "*  Specify the correct mark \n",
        "*  Use the correct x and y encoding \n",
        "*  Plotting the right data (hint: make sure you examine the data frame and use the correct columns)\n",
        "*  You will have 2 charts, one for U.S.&Canada, one for International\n",
        "\n",
        "\n",
        "You chart will look like:\n",
        "\n",
        "![](https://github.com/LiciaHe/SI649/blob/master/week2/imgs/v2/vis2_1_1.png?raw=true) \n",
        " \n",
        " and \n",
        " ![](https://github.com/LiciaHe/SI649/blob/master/week2/imgs/v2/vis2_1_2.png?raw=true) "
      ]
    },
    {
      "cell_type": "markdown",
      "metadata": {
        "id": "JeCLclB-aJSJ",
        "colab_type": "text"
      },
      "source": [
        "#### checkpoint 2: joining two charts\n",
        " \n",
        "* completed checkpoint1\n",
        "* joined two charts \n",
        "\n",
        "\n",
        "You chart will look like:\n",
        "![](https://github.com/LiciaHe/SI649/blob/master/week2/imgs/v2/vis2_2.png?raw=true)"
      ]
    },
    {
      "cell_type": "markdown",
      "metadata": {
        "id": "33LWIqIgeGPk",
        "colab_type": "text"
      },
      "source": [
        "#### checkpoint 3: resolve y scale and hide the second y-axis\n",
        " \n",
        "* completed checkpoint2\n",
        "* ensure that two charts are sharing the same y-axis \n",
        "* remove the second y-axis\n",
        "\n",
        "\n",
        "You chart will look like:\n",
        "\n",
        "![](https://github.com/LiciaHe/SI649/blob/master/week2/imgs/v2/vis2_3.png?raw=true)"
      ]
    },
    {
      "cell_type": "markdown",
      "metadata": {
        "id": "NOk-8oQ2e_UL",
        "colab_type": "text"
      },
      "source": [
        "#### checkpoint 4: sort y-axis \n",
        " \n",
        "* completed checkpoint 3\n",
        "* Sort y-axis so that the order of the bars is (from top to bottom): \n",
        "> \"Passes Bechdel Test\",\"Women only talk about men\",\"Women don't talk to each other\",\"Fewer than two women\",\"dubious\"\n",
        "\n",
        "\n",
        "\n",
        "\n",
        "You chart will look like:\n",
        "\n",
        "![](https://github.com/LiciaHe/SI649/blob/master/week2/imgs/v2/vis2_4.png?raw=true)"
      ]
    },
    {
      "cell_type": "markdown",
      "metadata": {
        "id": "zuEJor6FaS2C",
        "colab_type": "text"
      },
      "source": [
        "#### checkpoint 5: Change color and titles  \n",
        " \n",
        "* completed checkpoint 4\n",
        "* color bars of these two charts with different colors\n",
        "* add title to the compound chart \n",
        "* edit axis labels (you can also remove axis label and add chart title to individual chart)\n",
        "\n",
        "\n",
        "\n",
        "\n",
        "You chart will look like:\n",
        "![](https://github.com/LiciaHe/SI649/blob/master/week2/imgs/v2/vis2_5.png?raw=true)"
      ]
    },
    {
      "cell_type": "markdown",
      "metadata": {
        "id": "2a_vAPSehIlz",
        "colab_type": "text"
      },
      "source": [
        "#### checkpoint 6: BONUS: Add number layer  \n",
        " \n",
        "* completed checkpoint 5\n",
        "* add number annotations\n",
        "\n",
        "\n",
        "You chart will look like:\n",
        "\n",
        "![](https://github.com/LiciaHe/SI649/blob/master/week2/imgs/v2/vis2_6.png?raw=true)"
      ]
    },
    {
      "cell_type": "markdown",
      "metadata": {
        "id": "JADC_NvGlD_p",
        "colab_type": "text"
      },
      "source": [
        "## Visualization 3: Replicate this visualization"
      ]
    },
    {
      "cell_type": "markdown",
      "metadata": {
        "id": "B1GP-tkvlUrH",
        "colab_type": "text"
      },
      "source": [
        "![](https://github.com/LiciaHe/SI649/blob/master/week2/imgs/v3/vis3_4.png?raw=true)"
      ]
    },
    {
      "cell_type": "markdown",
      "metadata": {
        "id": "s2r8T43_lXBD",
        "colab_type": "text"
      },
      "source": [
        "### Step 1: Write down your plan for the visualization (edit this cell)\n",
        "\n",
        "*   Data Name: *movieDF*\n",
        "*   mark type: *TODO:write your answer here*\n",
        "*   Encoding Specification (1st chart):  \n",
        "*   > x:*TODO:write your answer here (x? y? N? Q? O?)*\n",
        "*   > y: *TODO:write your answer here (x? y? N? Q? O?)*\n",
        "*   Encoding Specification (2nd chart):  \n",
        "*   > x:*TODO:write your answer here (x? y? N? Q? O?)*\n",
        "*   > y: *TODO:write your answer here (x? y? N? Q? O?)*\n",
        "*   Encoding Specification (3rd chart):  \n",
        "*   > x:*TODO:write your answer here (x? y? N? Q? O?)*\n",
        "*   > y: *TODO:write your answer here (x? y? N? Q? O?)*\n",
        "\n",
        "\n",
        "\n",
        "\n"
      ]
    },
    {
      "cell_type": "markdown",
      "metadata": {
        "id": "9fK9NZnele_F",
        "colab_type": "text"
      },
      "source": [
        "### Step 2: Create your chart. \n",
        "Please take a look at the checkpoints below. You can follow the checkpoint to work through the problem step-by-step. Don't forget to paste your FINAL answer to the cell immediately blow this block (it will allow us to grade). You can search for the keyword \"TODO\" to locate cells that need your edits\n"
      ]
    },
    {
      "cell_type": "code",
      "metadata": {
        "id": "jsAXbb07lbPb",
        "colab_type": "code",
        "colab": {}
      },
      "source": [
        "#TODO: Replicate visualization 3"
      ],
      "execution_count": 0,
      "outputs": []
    },
    {
      "cell_type": "markdown",
      "metadata": {
        "id": "kS8FhfS1lu_3",
        "colab_type": "text"
      },
      "source": [
        "### Visualization3 Checkpoints"
      ]
    },
    {
      "cell_type": "markdown",
      "metadata": {
        "id": "TdZEqKZhlzqQ",
        "colab_type": "text"
      },
      "source": [
        "#### checkpoint 1: line chart for average, median, and max of budget \n",
        " \n",
        "You will get full points if you \n",
        "*  Specify the correct mark \n",
        "*  Use the correct x and y encoding \n",
        "*  Plotting the right data \n",
        "*  Produce 3 line charts\n",
        "\n",
        "\n",
        "You chart will look like:\n",
        "![](https://github.com/LiciaHe/SI649/blob/master/week2/imgs/v3/vis3_1_1.png?raw=true)\n",
        "and \n",
        "![](https://github.com/LiciaHe/SI649/blob/master/week2/imgs/v3/vis3_1_2.png?raw=true)\n",
        "and \n",
        "![](https://github.com/LiciaHe/SI649/blob/master/week2/imgs/v3/vis3_1_3.png?raw=true)"
      ]
    },
    {
      "cell_type": "markdown",
      "metadata": {
        "id": "D34Mej_woi4Q",
        "colab_type": "text"
      },
      "source": [
        "#### checkpoint 2: concat 3 line charts \n",
        " \n",
        "You will get full points if you \n",
        "*  Complete checkpoint 1\n",
        "*  Concat 3 charts vertically\n",
        "\n",
        "\n",
        "You chart will look like:\n",
        "![](https://github.com/LiciaHe/SI649/blob/master/week2/imgs/v3/vis3_2.png?raw=true)\n"
      ]
    },
    {
      "cell_type": "markdown",
      "metadata": {
        "id": "4h-D6m6zo-AX",
        "colab_type": "text"
      },
      "source": [
        "#### checkpoint 3: adjust width,  height and color \n",
        "Each chart should be 500x100, plotted with different colors\n",
        " \n",
        "You will get full points if you \n",
        "*  Complete checkpoint 2\n",
        "*  Adjust chart width and height\n",
        "*  Plot charts with different colors\n",
        "\n",
        "\n",
        "You chart will look like:\n",
        "![](https://github.com/LiciaHe/SI649/blob/master/week2/imgs/v3/vis3_3.png?raw=true)\n"
      ]
    },
    {
      "cell_type": "markdown",
      "metadata": {
        "id": "LriSxpeMqDHr",
        "colab_type": "text"
      },
      "source": [
        "#### checkpoint 4: resolve axis and remove duplicated x-axis \n",
        "\n",
        "You will get full points if you \n",
        "*  Complete checkpoint 3\n",
        "*  Ensure that 3 charts are sharing the same x-axis \n",
        "*  Remove duplicate axis ticks. \n",
        "\n",
        "\n",
        "You chart will look like:\n",
        "\n",
        "![](https://github.com/LiciaHe/SI649/blob/master/week2/imgs/v3/vis3_4.png?raw=true)\n"
      ]
    },
    {
      "cell_type": "markdown",
      "metadata": {
        "id": "GsEItvxnqfzS",
        "colab_type": "text"
      },
      "source": [
        "## Visualization 4: Replicate this visualization\n"
      ]
    },
    {
      "cell_type": "markdown",
      "metadata": {
        "id": "hgS_9oYNqlyw",
        "colab_type": "text"
      },
      "source": [
        "![](https://github.com/LiciaHe/SI649/blob/master/week2/imgs/v4/vis4.png?raw=true)"
      ]
    },
    {
      "cell_type": "markdown",
      "metadata": {
        "id": "INIMxJKcrtim",
        "colab_type": "text"
      },
      "source": [
        "### Step 1: Write down your plan for the visualization (edit this cell)\n",
        "\n",
        "\n",
        "*   Data Name: *movieDF*\n",
        "*   mark type: *TODO:write your answer here*\n",
        "*   Encoding Specification:  \n",
        "*   > x:*TODO:write your answer here (x? y? N? Q? O?)*\n",
        "*   > y: *TODO:write your answer here (x? y? N? Q? O?)*\n",
        "\n",
        "\n",
        "\n",
        "\n"
      ]
    },
    {
      "cell_type": "markdown",
      "metadata": {
        "id": "9GsYkwvWr7Eu",
        "colab_type": "text"
      },
      "source": [
        "### Step 2: Create your chart. \n",
        "This chart is relatively simple so there's no checkpoint."
      ]
    },
    {
      "cell_type": "code",
      "metadata": {
        "id": "Qhws1m7jNMtd",
        "colab_type": "code",
        "colab": {}
      },
      "source": [
        "#TODO: Replicate visualization 4 "
      ],
      "execution_count": 0,
      "outputs": []
    },
    {
      "cell_type": "markdown",
      "metadata": {
        "id": "9vxKB1N5O5OQ",
        "colab_type": "text"
      },
      "source": [
        "*End of LAB2*\n",
        "\n",
        "Please run all cells (Runtime->Run all), and \n",
        "1.  save to PDF (File->Print->Save PDF)\n",
        "2.  save to ipynb (File -> Download .ipynb)\n",
        "\n",
        "Rename both files with your uniqname: e.g. uniqname.pdf/ uniqname.ipynb\n",
        "Upload both files to canvas. \n"
      ]
    }
  ]
}